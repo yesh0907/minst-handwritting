{
 "cells": [
  {
   "cell_type": "code",
   "execution_count": 29,
   "metadata": {},
   "outputs": [],
   "source": [
    "import numpy as np\n",
    "from keras.datasets import mnist\n",
    "from keras.models import Sequential\n",
    "from keras.layers import Dense, Dropout\n",
    "from keras.utils import np_utils"
   ]
  },
  {
   "cell_type": "code",
   "execution_count": 19,
   "metadata": {},
   "outputs": [],
   "source": [
    "# fix random seed reproduction\n",
    "seed = 7\n",
    "numpy.random.seed(seed)"
   ]
  },
  {
   "cell_type": "code",
   "execution_count": 20,
   "metadata": {},
   "outputs": [],
   "source": [
    "(X_train, y_train), (X_test, y_test) = mnist.load_data()"
   ]
  },
  {
   "cell_type": "code",
   "execution_count": 21,
   "metadata": {},
   "outputs": [],
   "source": [
    "pixels = X_train.shape[1] * X_train.shape[2]\n",
    "X_train = X_train.reshape(X_train.shape[0], pixels).astype('float32')\n",
    "X_test = X_test.reshape(X_test.shape[0], pixels).astype('float32')"
   ]
  },
  {
   "cell_type": "code",
   "execution_count": 22,
   "metadata": {},
   "outputs": [],
   "source": [
    "# normalize data\n",
    "X_train = X_train / 255\n",
    "X_test = X_test / 255"
   ]
  },
  {
   "cell_type": "code",
   "execution_count": 23,
   "metadata": {},
   "outputs": [],
   "source": [
    "y_train = np_utils.to_categorical(y_train)\n",
    "y_test = np_utils.to_categorical(y_test)\n",
    "num_classes = y_test.shape[1]"
   ]
  },
  {
   "cell_type": "code",
   "execution_count": 24,
   "metadata": {},
   "outputs": [],
   "source": [
    "def model_base():\n",
    "    model = Sequential()\n",
    "    model.add(Dense(pixels, input_dim=pixels, kernel_initializer='normal', activation='relu'))\n",
    "    model.add(Dense(num_classes, kernel_initializer='normal', activation='softmax'))\n",
    "    model.compile(loss='categorical_crossentropy', optimizer='adam', metrics=['accuracy'])\n",
    "    return model"
   ]
  },
  {
   "cell_type": "code",
   "execution_count": 25,
   "metadata": {},
   "outputs": [
    {
     "name": "stdout",
     "output_type": "stream",
     "text": [
      "Train on 60000 samples, validate on 10000 samples\n",
      "Epoch 1/10\n",
      " - 7s - loss: 0.2791 - acc: 0.9209 - val_loss: 0.1422 - val_acc: 0.9570\n",
      "Epoch 2/10\n",
      " - 7s - loss: 0.1118 - acc: 0.9677 - val_loss: 0.0923 - val_acc: 0.9708\n",
      "Epoch 3/10\n",
      " - 7s - loss: 0.0718 - acc: 0.9794 - val_loss: 0.0794 - val_acc: 0.9770\n",
      "Epoch 4/10\n",
      " - 7s - loss: 0.0503 - acc: 0.9860 - val_loss: 0.0750 - val_acc: 0.9767\n",
      "Epoch 5/10\n",
      " - 7s - loss: 0.0375 - acc: 0.9892 - val_loss: 0.0676 - val_acc: 0.9792\n",
      "Epoch 6/10\n",
      " - 8s - loss: 0.0270 - acc: 0.9927 - val_loss: 0.0637 - val_acc: 0.9801\n",
      "Epoch 7/10\n",
      " - 7s - loss: 0.0208 - acc: 0.9945 - val_loss: 0.0624 - val_acc: 0.9812\n",
      "Epoch 8/10\n",
      " - 7s - loss: 0.0144 - acc: 0.9968 - val_loss: 0.0636 - val_acc: 0.9806\n",
      "Epoch 9/10\n",
      " - 7s - loss: 0.0110 - acc: 0.9978 - val_loss: 0.0595 - val_acc: 0.9811\n",
      "Epoch 10/10\n",
      " - 10s - loss: 0.0081 - acc: 0.9983 - val_loss: 0.0601 - val_acc: 0.9813\n",
      "Error: 1.87%\n"
     ]
    }
   ],
   "source": [
    "model = model_base()\n",
    "model.fit(X_train, y_train, validation_data=(X_test, y_test), epochs=10, batch_size=200, verbose=2)\n",
    "scores = model.evaluate(X_test, y_test, verbose=0)\n",
    "print(\"Error: %.2f%%\" % (100-scores[1]*100))"
   ]
  },
  {
   "cell_type": "markdown",
   "metadata": {},
   "source": [
    "## Demo"
   ]
  },
  {
   "cell_type": "code",
   "execution_count": 62,
   "metadata": {},
   "outputs": [],
   "source": [
    "import matplotlib.pyplot as plt"
   ]
  },
  {
   "cell_type": "code",
   "execution_count": 63,
   "metadata": {},
   "outputs": [
    {
     "name": "stdout",
     "output_type": "stream",
     "text": [
      "Image number 3420 is a 1, model predicted it is a 1\n"
     ]
    },
    {
     "data": {
      "image/png": "[encoded data removed]",
      "text/plain": [
       "<matplotlib.figure.Figure at 0x10de87610>"
      ]
     },
     "metadata": {},
     "output_type": "display_data"
    }
   ],
   "source": [
    "imgnr = np.random.randint(0, 10000)\n",
    "predictions = model.predict(X_test)\n",
    "prediction = predictions[imgnr]\n",
    "print(\"Image number {0} is a {1}, model predicted it is a {2}\".format(imgnr, np.argmax(y_test[imgnr]) , np.argmax(prediction)))\n",
    "fig, ax = plt.subplots(1,2,figsize=(8,4))\n",
    "ax[0].matshow(np.reshape(X_test[imgnr], (28, 28)), cmap='gray')\n",
    "ax[1].plot(prediction, lw=3)\n",
    "ax[1].set_aspect(9)\n",
    "plt.show()"
   ]
  },
  {
   "cell_type": "code",
   "execution_count": null,
   "metadata": {},
   "outputs": [],
   "source": []
  }
 ],
 "metadata": {
  "kernelspec": {
   "display_name": "Python 2",
   "language": "python",
   "name": "python2"
  },
  "language_info": {
   "codemirror_mode": {
    "name": "ipython",
    "version": 2
   },
   "file_extension": ".py",
   "mimetype": "text/x-python",
   "name": "python",
   "nbconvert_exporter": "python",
   "pygments_lexer": "ipython2",
   "version": "2.7.15"
  }
 },
 "nbformat": 4,
 "nbformat_minor": 2
}
